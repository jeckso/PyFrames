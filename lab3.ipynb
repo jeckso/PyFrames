{
 "cells": [
  {
   "cell_type": "code",
   "execution_count": 1,
   "metadata": {},
   "outputs": [],
   "source": [
    "res1 = None\n",
    "res2 = None"
   ]
  },
  {
   "cell_type": "code",
   "execution_count": 8,
   "metadata": {},
   "outputs": [
    {
     "name": "stdout",
     "output_type": "stream",
     "text": [
      "     con: array([], dtype=float64)\n",
      "     fun: 76.00000002591446\n",
      " message: 'Optimization terminated successfully.'\n",
      "     nit: 8\n",
      "   slack: array([1.56000000e+03, 5.74134447e-08, 2.72000000e+03])\n",
      "  status: 0\n",
      " success: True\n",
      "       x: array([3.8000000e+02, 1.6869936e-07])\n",
      "76.00000002591446\n",
      "[3.8000000e+02 1.6869936e-07]\n",
      "Time:  0.018003463745117188\n"
     ]
    }
   ],
   "source": [
    "import scipy.optimize as solve\n",
    "import time\n",
    "\n",
    "\n",
    "c = [0.2, 0.3]\n",
    "A = [[-7, -3], [-5, -4], [-9, -2]]\n",
    "b = [-1100, -1900, -700]\n",
    "\n",
    "start = time.time()\n",
    "x0_bounds = (0, None)\n",
    "x1_bounds = (0, None)\n",
    "res = solve.linprog(c, A_ub=A, b_ub=b, bounds=[x0_bounds, x1_bounds])\n",
    "print(res)\n",
    "print(res.fun)\n",
    "print(res.x)\n",
    "stop = time.time()\n",
    "print('Time: ', stop - start)\n",
    "\n",
    "res1 = res.x"
   ]
  },
  {
   "cell_type": "code",
   "execution_count": 3,
   "metadata": {},
   "outputs": [
    {
     "data": {
      "image/png": "[encoded data removed]",
      "text/plain": [
       "<Figure size 432x288 with 1 Axes>"
      ]
     },
     "metadata": {
      "needs_background": "light"
     },
     "output_type": "display_data"
    }
   ],
   "source": [
    "import matplotlib.pyplot as plt\n",
    "import numpy as np\n",
    "\n",
    "\n",
    "def f(a1, a2, b, x):\n",
    "    return (b - a1 * x) / a2\n",
    "\n",
    "\n",
    "X_MAX = 500\n",
    "STEP = int(X_MAX / 100)\n",
    "x = np.arange(0, X_MAX, STEP)\n",
    "for i in range(len(A)):\n",
    "    y = f(b=b[i], a1=A[i][0], x=x, a2=A[i][1])\n",
    "    plt.plot(x, y)\n",
    "    plt.fill_between(x, y, X_MAX, alpha=0.2)\n",
    "\n",
    "plt.text(200, 125, 'Level curve')\n",
    "y = (c[0] * res.x[0] - c[0] * x) / c[1]\n",
    "plt.plot(x, y, '--')\n",
    "plt.fill_between(x, y, X_MAX, alpha=0.2)\n",
    "\n",
    "plt.annotate('Min point', xy=(res.x[0], res.x[1]), xytext=(res.x[0] + 50, res.x[1] + 50), size='x-large',\n",
    "             style='italic', arrowprops=dict(facecolor='gray', arrowstyle='fancy'))\n",
    "plt.plot(res.x[0], res.x[1], 'ro')\n",
    "\n",
    "plt.text(X_MAX/2, X_MAX/2, 'Feasible region')\n",
    "\n",
    "plt.title('equation', fontsize=15)\n",
    "plt.xlabel('x1', fontsize=12)\n",
    "plt.ylabel('x2', fontsize=12, color='black')\n",
    "plt.savefig('paint.png', dpi=300)\n",
    "plt.show()"
   ]
  },
  {
   "cell_type": "code",
   "execution_count": 4,
   "metadata": {},
   "outputs": [
    {
     "name": "stdout",
     "output_type": "stream",
     "text": [
      "Results: \n",
      "x1 = 380.0\n",
      "x2 = 0.0\n",
      "Income:  76.0\n",
      "Time:  0.1249997615814209\n"
     ]
    }
   ],
   "source": [
    "from pulp import *\n",
    "start = time.time()\n",
    "x1 = pulp.LpVariable('x1', lowBound=0)\n",
    "x2 = pulp.LpVariable('x2', lowBound=0)\n",
    "\n",
    "problem = pulp.LpProblem('0', LpMinimize)\n",
    "problem += 0.2 * x1 + 0.3 * x2, 'F(x)'\n",
    "problem += 7 * x1 + 3 * x2 >= 1100, 'condition 1'\n",
    "problem += 5 * x1 + 4 * x2 >= 1900, 'condition 2'\n",
    "problem += 9 * x1 + 2 * x2 >= 700, 'condition 3'\n",
    "problem.solve()\n",
    "\n",
    "res = list()\n",
    "print('Results: ')\n",
    "for v in problem.variables():\n",
    "    print(v.name, '=', v.varValue)\n",
    "    res.append(v.varValue)\n",
    "print('Income: ', value(problem.objective))\n",
    "stop = time.time()\n",
    "print('Time: ', stop - start)\n",
    "\n",
    "res2 = res"
   ]
  },
  {
   "cell_type": "code",
   "execution_count": 5,
   "metadata": {},
   "outputs": [
    {
     "name": "stdout",
     "output_type": "stream",
     "text": [
      "Solution results: \n",
      "scipy.optimize result:  [3.8000000e+02 1.6869936e-07]\n",
      "pulp result:  [380.0, 0.0]\n",
      "np.allclose:  False\n",
      "np.allclose [0]:  True\n",
      "np.allclose [1]: False\n"
     ]
    }
   ],
   "source": [
    "print('Solution results: ')\n",
    "print('scipy.optimize result: ', res1)\n",
    "print('pulp result: ', res2)\n",
    "print('np.allclose: ', np.allclose(np.array(res1), np.array(res2)))\n",
    "print('np.allclose [0]: ', np.allclose(np.array(res1[0]), np.array(res2[0])))\n",
    "print('np.allclose [1]:', np.allclose(np.array(res1[1]), np.array(res2[1])))"
   ]
  },
  {
   "cell_type": "code",
   "execution_count": 10,
   "metadata": {},
   "outputs": [
    {
     "name": "stdout",
     "output_type": "stream",
     "text": [
      "[[ 0. 60. 25.  0.  0.]\n",
      " [90. 10.  0. 10.  0.]\n",
      " [ 0.  0. 45. 20.  0.]\n",
      " [ 0.  0.  0. 30. 50.]]\n",
      "1835.0000041123596\n",
      "Time:  0.020000457763671875\n"
     ]
    },
    {
     "name": "stderr",
     "output_type": "stream",
     "text": [
      "c:\\users\\admin\\appdata\\local\\programs\\python\\python37-32\\lib\\site-packages\\ipykernel_launcher.py:22: OptimizeWarning: A_eq does not appear to be of full row rank. To improve performance, check the problem formulation for redundant equality constraints.\n"
     ]
    }
   ],
   "source": [
    "import numpy as np\n",
    "from scipy.optimize import linprog\n",
    "import time\n",
    "\n",
    "\n",
    "start = time.time()\n",
    "c = [12, 8, 7, 10, 9, 4, 5, 11, 3, 14, 15, 10, 6, 5, 9, 16, 8, 6, 4, 5]\n",
    "aa = np.zeros(180, dtype=int)\n",
    "a = aa.reshape(9, 20)\n",
    "a[0, 0:5] = 1\n",
    "a[1, 5:10] = 1\n",
    "a[2, 10:15] = 1\n",
    "a[3, 15:20] = 1\n",
    "a[4, 0::5] = 1\n",
    "a[5, 1::5] = 1\n",
    "a[6, 2::5] = 1\n",
    "a[7, 3::5] = 1\n",
    "a[8, 4::5] = 1\n",
    "A = a\n",
    "b = [85, 110, 65, 80, 90, 70, 70, 60, 50]\n",
    "bnd = [(0, int(1000))] * 20\n",
    "res = linprog(c, A_eq=A, b_eq=b, bounds=bnd)\n",
    "print(res.x.reshape(4, 5).round())\n",
    "print(res.fun)\n",
    "stop = time.time()\n",
    "print('Time: ', stop - start)"
   ]
  },
  {
   "cell_type": "code",
   "execution_count": null,
   "metadata": {},
   "outputs": [],
   "source": []
  }
 ],
 "metadata": {
  "kernelspec": {
   "display_name": "Python 3",
   "language": "python",
   "name": "python3"
  },
  "language_info": {
   "codemirror_mode": {
    "name": "ipython",
    "version": 3
   },
   "file_extension": ".py",
   "mimetype": "text/x-python",
   "name": "python",
   "nbconvert_exporter": "python",
   "pygments_lexer": "ipython3",
   "version": "3.7.3"
  }
 },
 "nbformat": 4,
 "nbformat_minor": 4
}
