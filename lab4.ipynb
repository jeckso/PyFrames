{
 "cells": [
  {
   "cell_type": "code",
   "execution_count": 1,
   "metadata": {},
   "outputs": [],
   "source": [
    "import pandas as pd\n",
    "\n",
    "dataset = pd.read_csv('archive/NationalNames.csv')"
   ]
  },
  {
   "cell_type": "code",
   "execution_count": 2,
   "metadata": {},
   "outputs": [
    {
     "name": "stdout",
     "output_type": "stream",
     "text": [
      "Output the first 8 rows of the dataset\n"
     ]
    },
    {
     "data": {
      "text/html": [
       "<div>\n",
       "<style scoped>\n",
       "    .dataframe tbody tr th:only-of-type {\n",
       "        vertical-align: middle;\n",
       "    }\n",
       "\n",
       "    .dataframe tbody tr th {\n",
       "        vertical-align: top;\n",
       "    }\n",
       "\n",
       "    .dataframe thead th {\n",
       "        text-align: right;\n",
       "    }\n",
       "</style>\n",
       "<table border=\"1\" class=\"dataframe\">\n",
       "  <thead>\n",
       "    <tr style=\"text-align: right;\">\n",
       "      <th></th>\n",
       "      <th>Id</th>\n",
       "      <th>Name</th>\n",
       "      <th>Year</th>\n",
       "      <th>Gender</th>\n",
       "      <th>Count</th>\n",
       "    </tr>\n",
       "  </thead>\n",
       "  <tbody>\n",
       "    <tr>\n",
       "      <td>0</td>\n",
       "      <td>1</td>\n",
       "      <td>Mary</td>\n",
       "      <td>1880</td>\n",
       "      <td>F</td>\n",
       "      <td>7065</td>\n",
       "    </tr>\n",
       "    <tr>\n",
       "      <td>1</td>\n",
       "      <td>2</td>\n",
       "      <td>Anna</td>\n",
       "      <td>1880</td>\n",
       "      <td>F</td>\n",
       "      <td>2604</td>\n",
       "    </tr>\n",
       "    <tr>\n",
       "      <td>2</td>\n",
       "      <td>3</td>\n",
       "      <td>Emma</td>\n",
       "      <td>1880</td>\n",
       "      <td>F</td>\n",
       "      <td>2003</td>\n",
       "    </tr>\n",
       "    <tr>\n",
       "      <td>3</td>\n",
       "      <td>4</td>\n",
       "      <td>Elizabeth</td>\n",
       "      <td>1880</td>\n",
       "      <td>F</td>\n",
       "      <td>1939</td>\n",
       "    </tr>\n",
       "    <tr>\n",
       "      <td>4</td>\n",
       "      <td>5</td>\n",
       "      <td>Minnie</td>\n",
       "      <td>1880</td>\n",
       "      <td>F</td>\n",
       "      <td>1746</td>\n",
       "    </tr>\n",
       "    <tr>\n",
       "      <td>5</td>\n",
       "      <td>6</td>\n",
       "      <td>Margaret</td>\n",
       "      <td>1880</td>\n",
       "      <td>F</td>\n",
       "      <td>1578</td>\n",
       "    </tr>\n",
       "    <tr>\n",
       "      <td>6</td>\n",
       "      <td>7</td>\n",
       "      <td>Ida</td>\n",
       "      <td>1880</td>\n",
       "      <td>F</td>\n",
       "      <td>1472</td>\n",
       "    </tr>\n",
       "    <tr>\n",
       "      <td>7</td>\n",
       "      <td>8</td>\n",
       "      <td>Alice</td>\n",
       "      <td>1880</td>\n",
       "      <td>F</td>\n",
       "      <td>1414</td>\n",
       "    </tr>\n",
       "  </tbody>\n",
       "</table>\n",
       "</div>"
      ],
      "text/plain": [
       "   Id       Name  Year Gender  Count\n",
       "0   1       Mary  1880      F   7065\n",
       "1   2       Anna  1880      F   2604\n",
       "2   3       Emma  1880      F   2003\n",
       "3   4  Elizabeth  1880      F   1939\n",
       "4   5     Minnie  1880      F   1746\n",
       "5   6   Margaret  1880      F   1578\n",
       "6   7        Ida  1880      F   1472\n",
       "7   8      Alice  1880      F   1414"
      ]
     },
     "execution_count": 2,
     "metadata": {},
     "output_type": "execute_result"
    }
   ],
   "source": [
    "print('Output the first 8 rows of the dataset')\n",
    "dataset[0:8]"
   ]
  },
  {
   "cell_type": "code",
   "execution_count": 3,
   "metadata": {},
   "outputs": [
    {
     "name": "stdout",
     "output_type": "stream",
     "text": [
      "Output the last 8 rows of the dataset\n",
      "              Id     Name  Year Gender  Count\n",
      "1825425  1825426       Zo  2014      M      5\n",
      "1825426  1825427    Zyeir  2014      M      5\n",
      "1825427  1825428     Zyel  2014      M      5\n",
      "1825428  1825429   Zykeem  2014      M      5\n",
      "1825429  1825430   Zymeer  2014      M      5\n",
      "1825430  1825431  Zymiere  2014      M      5\n",
      "1825431  1825432    Zyran  2014      M      5\n",
      "1825432  1825433    Zyrin  2014      M      5\n"
     ]
    }
   ],
   "source": [
    "print('Output the last 8 rows of the dataset')\n",
    "print(dataset[-8:])"
   ]
  },
  {
   "cell_type": "code",
   "execution_count": 4,
   "metadata": {},
   "outputs": [
    {
     "name": "stdout",
     "output_type": "stream",
     "text": [
      "Get the names of dataset columns\n",
      "Index(['Id', 'Name', 'Year', 'Gender', 'Count'], dtype='object')\n"
     ]
    }
   ],
   "source": [
    "print('Get the names of dataset columns')\n",
    "print(dataset.columns)"
   ]
  },
  {
   "cell_type": "code",
   "execution_count": 5,
   "metadata": {},
   "outputs": [
    {
     "name": "stdout",
     "output_type": "stream",
     "text": [
      "Get general information about data in the dataset\n",
      "                 Id          Year         Count\n",
      "count  1.825433e+06  1.825433e+06  1.825433e+06\n",
      "mean   9.127170e+05  1.972620e+03  1.846879e+02\n",
      "std    5.269573e+05  3.352891e+01  1.566711e+03\n",
      "min    1.000000e+00  1.880000e+03  5.000000e+00\n",
      "25%    4.563590e+05  1.949000e+03  7.000000e+00\n",
      "50%    9.127170e+05  1.982000e+03  1.200000e+01\n",
      "75%    1.369075e+06  2.001000e+03  3.200000e+01\n",
      "max    1.825433e+06  2.014000e+03  9.968000e+04\n"
     ]
    }
   ],
   "source": [
    "print('Get general information about data in the dataset')\n",
    "print(dataset.describe())"
   ]
  },
  {
   "cell_type": "code",
   "execution_count": 6,
   "metadata": {},
   "outputs": [
    {
     "name": "stdout",
     "output_type": "stream",
     "text": [
      "Find the number of unique names in whole dataset\n",
      "93889\n"
     ]
    }
   ],
   "source": [
    "print('Find the number of unique names in whole dataset')\n",
    "print(dataset.nunique()['Name'])"
   ]
  },
  {
   "cell_type": "code",
   "execution_count": 7,
   "metadata": {},
   "outputs": [
    {
     "name": "stdout",
     "output_type": "stream",
     "text": [
      "Calculate the number of unique female and male names in whole dataset\n",
      "Gender\n",
      "F    64911\n",
      "M    39199\n",
      "Name: Name, dtype: int64\n"
     ]
    }
   ],
   "source": [
    "print('Calculate the number of unique female and male names in whole dataset')\n",
    "print(dataset.groupby('Gender').nunique()['Name'])"
   ]
  },
  {
   "cell_type": "code",
   "execution_count": 8,
   "metadata": {},
   "outputs": [
    {
     "name": "stdout",
     "output_type": "stream",
     "text": [
      "Find 5 the most popular male names in 2010\n",
      "              Id     Name  Year Gender  Count\n",
      "1677392  1677393    Jacob  2010      M  22082\n",
      "1677393  1677394    Ethan  2010      M  17985\n",
      "1677394  1677395  Michael  2010      M  17308\n",
      "1677395  1677396   Jayden  2010      M  17152\n",
      "1677396  1677397  William  2010      M  17030\n"
     ]
    }
   ],
   "source": [
    "print('Find 5 the most popular male names in 2010')\n",
    "print(dataset[(dataset['Year'] == 2010) & (dataset['Gender'] == 'M')].sort_values('Count', ascending=False)[0:5])"
   ]
  },
  {
   "cell_type": "code",
   "execution_count": 9,
   "metadata": {},
   "outputs": [
    {
     "name": "stdout",
     "output_type": "stream",
     "text": [
      "Find the most popular name based on the results of one year (the name for which Count is maximum)\n",
      "            Id   Name  Year Gender  Count\n",
      "431052  431053  Linda  1947      F  99680\n"
     ]
    }
   ],
   "source": [
    "print('Find the most popular name based on the results of one year (the name for which Count is maximum)')\n",
    "print(dataset.sort_values('Count', ascending=False)[0:1])"
   ]
  },
  {
   "cell_type": "code",
   "execution_count": 10,
   "metadata": {},
   "outputs": [
    {
     "name": "stdout",
     "output_type": "stream",
     "text": [
      "Count the number of records with Count = minimum\n",
      "254615\n"
     ]
    }
   ],
   "source": [
    "print('Count the number of records with Count = minimum')\n",
    "print(dataset.where(dataset['Count'] == dataset['Count'].min()).count().iloc()[0])"
   ]
  },
  {
   "cell_type": "code",
   "execution_count": 11,
   "metadata": {},
   "outputs": [
    {
     "name": "stdout",
     "output_type": "stream",
     "text": [
      "Count the number of unique names in each year\n",
      "       Name\n",
      "Year       \n",
      "1880   1889\n",
      "1881   1830\n",
      "1882   2012\n",
      "1883   1962\n",
      "1884   2158\n",
      "...     ...\n",
      "2010  31603\n",
      "2011  31418\n",
      "2012  31236\n",
      "2013  30774\n",
      "2014  30579\n",
      "\n",
      "[135 rows x 1 columns]\n"
     ]
    }
   ],
   "source": [
    "print('Count the number of unique names in each year')\n",
    "print(dataset.groupby('Year')[['Name']].nunique())"
   ]
  },
  {
   "cell_type": "code",
   "execution_count": 12,
   "metadata": {},
   "outputs": [
    {
     "name": "stdout",
     "output_type": "stream",
     "text": [
      "Find the year with the most number of unique names.\n",
      "         Id   Name  Year  Gender  Count\n",
      "Year                                   \n",
      "2007  34931  32400     1       2   1391\n"
     ]
    }
   ],
   "source": [
    "print('Find the year with the most number of unique names.')\n",
    "print(dataset.groupby('Year').nunique().sort_values('Count', ascending=False)[0:1])"
   ]
  },
  {
   "cell_type": "code",
   "execution_count": 13,
   "metadata": {},
   "outputs": [
    {
     "name": "stdout",
     "output_type": "stream",
     "text": [
      "Find most popular name of the year with the most number of unique names(that is in 2008)\n",
      "Id        1608303\n",
      "Name        Jacob\n",
      "Year         2008\n",
      "Gender          M\n",
      "Count       22568\n",
      "Name: 1608302, dtype: object\n"
     ]
    }
   ],
   "source": [
    "print('Find most popular name of the year with the most number of unique names(that is in 2008)')\n",
    "print(dataset[(dataset.Year == 2008)].sort_values('Count', ascending=False)[0:1].iloc()[0])"
   ]
  },
  {
   "cell_type": "code",
   "execution_count": 14,
   "metadata": {},
   "outputs": [
    {
     "name": "stdout",
     "output_type": "stream",
     "text": [
      "Find the year when the name “Jacob” was the most popular as a female name\n"
     ]
    },
    {
     "data": {
      "text/html": [
       "<div>\n",
       "<style scoped>\n",
       "    .dataframe tbody tr th:only-of-type {\n",
       "        vertical-align: middle;\n",
       "    }\n",
       "\n",
       "    .dataframe tbody tr th {\n",
       "        vertical-align: top;\n",
       "    }\n",
       "\n",
       "    .dataframe thead th {\n",
       "        text-align: right;\n",
       "    }\n",
       "</style>\n",
       "<table border=\"1\" class=\"dataframe\">\n",
       "  <thead>\n",
       "    <tr style=\"text-align: right;\">\n",
       "      <th></th>\n",
       "      <th>Id</th>\n",
       "      <th>Name</th>\n",
       "      <th>Year</th>\n",
       "      <th>Gender</th>\n",
       "      <th>Count</th>\n",
       "    </tr>\n",
       "  </thead>\n",
       "  <tbody>\n",
       "    <tr>\n",
       "      <td>1455556</td>\n",
       "      <td>1455557</td>\n",
       "      <td>Jacob</td>\n",
       "      <td>2004</td>\n",
       "      <td>F</td>\n",
       "      <td>171</td>\n",
       "    </tr>\n",
       "  </tbody>\n",
       "</table>\n",
       "</div>"
      ],
      "text/plain": [
       "              Id   Name  Year Gender  Count\n",
       "1455556  1455557  Jacob  2004      F    171"
      ]
     },
     "execution_count": 14,
     "metadata": {},
     "output_type": "execute_result"
    }
   ],
   "source": [
    "print('Find the year when the name “Jacob” was the most popular as a female name')\n",
    "dataset[(dataset.Name == 'Jacob') & (dataset.Gender == 'F')].sort_values('Count', ascending=False)[0:1]"
   ]
  },
  {
   "cell_type": "code",
   "execution_count": 15,
   "metadata": {},
   "outputs": [
    {
     "name": "stdout",
     "output_type": "stream",
     "text": [
      "Find year, with the most number of gender neutral names (the same male and female names)\n"
     ]
    },
    {
     "data": {
      "text/plain": [
       "2557"
      ]
     },
     "execution_count": 15,
     "metadata": {},
     "output_type": "execute_result"
    }
   ],
   "source": [
    "print('Find year, with the most number of gender neutral names (the same male and female names)')\n",
    "dataset.groupby(['Year', 'Name', 'Gender']).sum().unstack().dropna().groupby(['Year']).count().unstack().max()"
   ]
  },
  {
   "cell_type": "code",
   "execution_count": 16,
   "metadata": {},
   "outputs": [
    {
     "name": "stdout",
     "output_type": "stream",
     "text": [
      "Find total births per year\n",
      "Year\n",
      "1880     201484\n",
      "1881     192699\n",
      "1882     221538\n",
      "1883     216950\n",
      "1884     243467\n",
      "         ...   \n",
      "2010    3686589\n",
      "2011    3646730\n",
      "2012    3643336\n",
      "2013    3626802\n",
      "2014    3670151\n",
      "Name: Count, Length: 135, dtype: int64\n"
     ]
    }
   ],
   "source": [
    "print('Find total births per year')\n",
    "print(dataset.groupby('Year').sum()['Count'])"
   ]
  },
  {
   "cell_type": "code",
   "execution_count": 17,
   "metadata": {},
   "outputs": [
    {
     "name": "stdout",
     "output_type": "stream",
     "text": [
      "Find the year when the greatest number of children was born \n"
     ]
    },
    {
     "data": {
      "text/plain": [
       "1957"
      ]
     },
     "execution_count": 17,
     "metadata": {},
     "output_type": "execute_result"
    }
   ],
   "source": [
    "print('Find the year when the greatest number of children was born ')\n",
    "df = dataset.groupby('Year').sum()\n",
    "df.index[df.Count == df.max().Count].tolist()[0]"
   ]
  },
  {
   "cell_type": "code",
   "execution_count": 18,
   "metadata": {},
   "outputs": [
    {
     "name": "stdout",
     "output_type": "stream",
     "text": [
      "Find the number of girls and boys that were born in each year\n",
      "Gender        F        M\n",
      "Year                    \n",
      "1880      90993   110491\n",
      "1881      91954   100745\n",
      "1882     107850   113688\n",
      "1883     112321   104629\n",
      "1884     129022   114445\n",
      "...         ...      ...\n",
      "2010    1772738  1913851\n",
      "2011    1753500  1893230\n",
      "2012    1753922  1889414\n",
      "2013    1745339  1881463\n",
      "2014    1768775  1901376\n",
      "\n",
      "[135 rows x 2 columns]\n"
     ]
    }
   ],
   "source": [
    "print('Find the number of girls and boys that were born in each year')\n",
    "df = dataset.groupby(['Year', 'Gender'])['Count'].sum().unstack()\n",
    "print(df)"
   ]
  },
  {
   "cell_type": "code",
   "execution_count": 19,
   "metadata": {},
   "outputs": [
    {
     "name": "stdout",
     "output_type": "stream",
     "text": [
      "Count the number of years when more girls were born than boys\n",
      "Gender\n",
      "F    54\n",
      "M    54\n",
      "dtype: int64\n"
     ]
    }
   ],
   "source": [
    "print('Count the number of years when more girls were born than boys')\n",
    "table = dataset.groupby(['Year', 'Gender'])['Count'].sum().unstack()\n",
    "print(table[table.F > table.M].count())"
   ]
  },
  {
   "cell_type": "code",
   "execution_count": 20,
   "metadata": {},
   "outputs": [
    {
     "name": "stdout",
     "output_type": "stream",
     "text": [
      "Draw the plot of total births per year of boys and girls\n"
     ]
    },
    {
     "data": {
      "image/png": "[encoded data removed]",
      "text/plain": [
       "<Figure size 432x288 with 1 Axes>"
      ]
     },
     "metadata": {
      "needs_background": "light"
     },
     "output_type": "display_data"
    }
   ],
   "source": [
    "print('Draw the plot of total births per year of boys and girls')\n",
    "import matplotlib.pyplot as plt\n",
    "df.plot()\n",
    "plt.show()"
   ]
  },
  {
   "cell_type": "code",
   "execution_count": 21,
   "metadata": {},
   "outputs": [
    {
     "name": "stdout",
     "output_type": "stream",
     "text": [
      "Count number of gender neutral names (same for girls and boys)\n",
      "Gender\n",
      "F    10221\n",
      "M    10221\n",
      "dtype: int64\n"
     ]
    }
   ],
   "source": [
    "print('Count number of gender neutral names (same for girls and boys)')\n",
    "print(dataset.groupby(['Name', 'Gender']).sum().unstack().dropna().count()['Count'])"
   ]
  },
  {
   "cell_type": "code",
   "execution_count": 22,
   "metadata": {},
   "outputs": [
    {
     "name": "stdout",
     "output_type": "stream",
     "text": [
      "Count how much times boys were named as Barbara\n",
      "4139\n"
     ]
    }
   ],
   "source": [
    "print('Count how much times boys were named as Barbara')\n",
    "print(dataset[(dataset.Name == 'Barbara') & (dataset.Gender == 'M')]['Count'].sum())"
   ]
  },
  {
   "cell_type": "code",
   "execution_count": 23,
   "metadata": {},
   "outputs": [
    {
     "name": "stdout",
     "output_type": "stream",
     "text": [
      "Create 2 conditions for data analyzing of this dataset on your own and implement them.\n",
      "Most popular name in 2000-2005, 2005-2010, 2010+\n",
      "              Id   Name  Year Gender  Count\n",
      "1350190  1350191  Jacob  2000      M  34465\n",
      "              Id   Name  Year Gender  Count\n",
      "1538906  1538907  Jacob  2006      M  24830\n",
      "              Id    Name  Year Gender  Count\n",
      "1725502  1725503  Sophia  2012      F  22267\n",
      "How many Richards were born in 2001\n",
      "Gender   F     M\n",
      "Year            \n",
      "2001    11  5767\n"
     ]
    }
   ],
   "source": [
    "print('Create 2 conditions for data analyzing of this dataset on your own and implement them.')\n",
    "\n",
    "print('Most popular name in 2000-2005, 2005-2010, 2010+')\n",
    "print(dataset[(2000 <= dataset['Year']) & (dataset['Year'] <= 2005)].sort_values('Count', ascending=False)[0:1])\n",
    "print(dataset[(2005 < dataset['Year']) & (dataset['Year'] <= 2010)].sort_values('Count', ascending=False)[0:1])\n",
    "print(dataset[(2010 < dataset['Year'])].sort_values('Count', ascending=False)[0:1])\n",
    "\n",
    "print('How many Richards were born in 2001')\n",
    "print(dataset[(dataset.Name == 'Richard') & (dataset.Year == 2001)].groupby(['Year', 'Gender'])['Count'].sum().unstack())"
   ]
  },
  {
   "cell_type": "code",
   "execution_count": 41,
   "metadata": {},
   "outputs": [
    {
     "name": "stdout",
     "output_type": "stream",
     "text": [
      "385.0\n"
     ]
    }
   ],
   "source": [
    "df = dataset.groupby(['Name', 'Gender']).sum().unstack().dropna()['Count']\n",
    "values = df.index.values\n",
    "if 'Illya' in values:\n",
    "    print(df.loc['Illya'].sum())\n",
    "else:\n",
    "    print('No')"
   ]
  },
  {
   "cell_type": "code",
   "execution_count": null,
   "metadata": {},
   "outputs": [],
   "source": []
  }
 ],
 "metadata": {
  "kernelspec": {
   "display_name": "Python 3",
   "language": "python",
   "name": "python3"
  },
  "language_info": {
   "codemirror_mode": {
    "name": "ipython",
    "version": 3
   },
   "file_extension": ".py",
   "mimetype": "text/x-python",
   "name": "python",
   "nbconvert_exporter": "python",
   "pygments_lexer": "ipython3",
   "version": "3.7.3"
  }
 },
 "nbformat": 4,
 "nbformat_minor": 4
}
